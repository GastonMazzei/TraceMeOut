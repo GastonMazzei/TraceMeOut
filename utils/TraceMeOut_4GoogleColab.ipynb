{
  "nbformat": 4,
  "nbformat_minor": 0,
  "metadata": {
    "colab": {
      "name": "TraceMeOut-4GoogleColab.ipynb",
      "provenance": []
    },
    "kernelspec": {
      "name": "python3",
      "display_name": "Python 3"
    },
    "language_info": {
      "name": "python"
    }
  },
  "cells": [
    {
      "cell_type": "code",
      "execution_count": 1,
      "metadata": {
        "colab": {
          "base_uri": "https://localhost:8080/"
        },
        "id": "1NJdGVNSkPlx",
        "outputId": "686b814a-f18c-41a9-d7a5-100d6900df46"
      },
      "outputs": [
        {
          "output_type": "stream",
          "name": "stdout",
          "text": [
            "2.7.0\n"
          ]
        }
      ],
      "source": [
        "import pickle,sys,os\n",
        "\n",
        "import tensorflow as tf\n",
        "import numpy as np\n",
        "import matplotlib.pyplot as plt\n",
        "\n",
        "print(tf.__version__)"
      ]
    },
    {
      "cell_type": "code",
      "source": [
        "!wget https://github.com/GastonMazzei/TraceMeOut/blob/main/processed_trace/Dataset0.pkl?raw=true"
      ],
      "metadata": {
        "colab": {
          "base_uri": "https://localhost:8080/"
        },
        "id": "wRjDxDxSlffM",
        "outputId": "907f746f-87dd-4316-e927-af14936febe9"
      },
      "execution_count": 2,
      "outputs": [
        {
          "output_type": "stream",
          "name": "stdout",
          "text": [
            "--2021-12-29 23:56:43--  https://github.com/GastonMazzei/TraceMeOut/blob/main/processed_trace/Dataset0.pkl?raw=true\n",
            "Resolving github.com (github.com)... 140.82.121.4\n",
            "Connecting to github.com (github.com)|140.82.121.4|:443... connected.\n",
            "HTTP request sent, awaiting response... 302 Found\n",
            "Location: https://github.com/GastonMazzei/TraceMeOut/raw/main/processed_trace/Dataset0.pkl [following]\n",
            "--2021-12-29 23:56:43--  https://github.com/GastonMazzei/TraceMeOut/raw/main/processed_trace/Dataset0.pkl\n",
            "Reusing existing connection to github.com:443.\n",
            "HTTP request sent, awaiting response... 302 Found\n",
            "Location: https://raw.githubusercontent.com/GastonMazzei/TraceMeOut/main/processed_trace/Dataset0.pkl [following]\n",
            "--2021-12-29 23:56:44--  https://raw.githubusercontent.com/GastonMazzei/TraceMeOut/main/processed_trace/Dataset0.pkl\n",
            "Resolving raw.githubusercontent.com (raw.githubusercontent.com)... 185.199.108.133, 185.199.109.133, 185.199.110.133, ...\n",
            "Connecting to raw.githubusercontent.com (raw.githubusercontent.com)|185.199.108.133|:443... connected.\n",
            "HTTP request sent, awaiting response... 200 OK\n",
            "Length: 3095332 (3.0M) [application/octet-stream]\n",
            "Saving to: ‘Dataset0.pkl?raw=true’\n",
            "\n",
            "Dataset0.pkl?raw=tr 100%[===================>]   2.95M  --.-KB/s    in 0.03s   \n",
            "\n",
            "2021-12-29 23:56:44 (109 MB/s) - ‘Dataset0.pkl?raw=true’ saved [3095332/3095332]\n",
            "\n"
          ]
        }
      ]
    },
    {
      "cell_type": "code",
      "source": [
        "!ls"
      ],
      "metadata": {
        "colab": {
          "base_uri": "https://localhost:8080/"
        },
        "id": "AeBPa_RrlnaD",
        "outputId": "837f2569-377b-4eac-9f07-45ccf1e876c7"
      },
      "execution_count": 3,
      "outputs": [
        {
          "output_type": "stream",
          "name": "stdout",
          "text": [
            "'Dataset0.pkl?raw=true'   sample_data\n"
          ]
        }
      ]
    },
    {
      "cell_type": "code",
      "source": [
        "import pickle\n",
        "with open('Dataset0.pkl?raw=true','rb') as f:\n",
        "  data = pickle.load(f)"
      ],
      "metadata": {
        "id": "_AFenX9QlrWx"
      },
      "execution_count": 4,
      "outputs": []
    },
    {
      "cell_type": "code",
      "source": [
        "\n",
        "# Model-specific parameters\n",
        "T=8 # duration of the window in dt units\n",
        "dt = 100000 # time in microseconds\n",
        "UNIQUES=3807  #number of unique ids\n",
        "MI=5709  #max number of interactions\n",
        "ML=5712  #max number of leaves\n",
        "NCATEGORIES=2\n",
        "\n",
        "# Architectural parameters\n",
        "ACT1 = 'relu'\n",
        "FILTERS1 = 8\n",
        "KSIZE1 = (2,1)\n",
        "PSIZE1 = (max([T//4,2]),)\n",
        "NDENSE1 = 16\n",
        "DROP1 = 0.4\n",
        "\n",
        "ACT2 = 'relu'\n",
        "FILTERS2 = 8\n",
        "KSIZE2 = (2,2)\n",
        "PSIZE2 = (max([T//2,2]),1)\n",
        "stride = (1,1)\n",
        "NDENSE2 = 16\n",
        "DROP2 = 0.75\n",
        "\n",
        "ACT3='relu'\n",
        "NDENSE3=8\n",
        "DROP3 = 0.4\n",
        "\n",
        "# Training parameters\n",
        "VAL=0.25\n",
        "BATCH=10\n",
        "EPOCHS=3\n",
        "L=5 # a length used to generate random data just for testing\n",
        "\n",
        "# Extras\n",
        "POOLING = False\n",
        "PROCS=[3, 2, 0, 1]"
      ],
      "metadata": {
        "id": "nsC-H7jvkmMn"
      },
      "execution_count": 5,
      "outputs": []
    },
    {
      "cell_type": "code",
      "source": [
        "# define two sets of inputs: \n",
        "input_shape_flavours = (BATCH, T, ML, 1)\n",
        "input_shape_structure = (BATCH, T, MI, 2)\n",
        "inputFlavours = tf.keras.Input(shape=input_shape_flavours[1:])\n",
        "inputStructure = tf.keras.Input(shape=input_shape_structure[1:])\n",
        "\n",
        "# the first branch operates on the first input (https://www.tensorflow.org/api_docs/python/tf/keras/layers/Conv1D)\n",
        "x = tf.keras.layers.Conv2D(\n",
        "\t\t\t# Filters, Kersize, Strides, Padding,  Activation\n",
        "\t\t\tFILTERS1,         KSIZE1,       (1,1),      'valid',  activation = ACT1,\n",
        "\t\t\tinput_shape = input_shape_flavours[1:]\n",
        "\t\t\t)(inputFlavours)\n",
        "x = tf.keras.layers.Conv2D(\n",
        "\t\t\t# Filters, Kersize, Strides, Padding,  Activation\n",
        "\t\t\tFILTERS1 * 2,         KSIZE1,       (1,1),      'valid',  activation = ACT1,\n",
        "\t\t\t)(x)\n",
        "x = tf.keras.layers.Conv2D(\n",
        "\t\t\t# Filters, Kersize, Strides, Padding,  Activation\n",
        "\t\t\tFILTERS1 * 2,         KSIZE1,       (1,1),      'valid',  activation = ACT1,\n",
        "\t\t\t)(x)\n",
        "#x = tf.keras.layers.MaxPool1D(pool_size=PSIZE1)(x)\n",
        "x = tf.keras.layers.Flatten()(x)\n",
        "x = tf.keras.layers.Dropout(DROP1)(x)\n",
        "x = tf.keras.layers.Dense(NDENSE1, activation = ACT1)(x)\n",
        "x = tf.keras.layers.Dropout(DROP1)(x)\n",
        "x = tf.keras.layers.Dense(NDENSE1 // 2, activation = ACT1)(x)\n",
        "x = tf.keras.layers.Dropout(DROP1)(x)\n",
        "x = tf.keras.layers.Dense(NDENSE1 // 2 // 2, activation = ACT1)(x)\n",
        "x = tf.keras.Model(inputs = inputFlavours, outputs=x)\n",
        "\n",
        "# the second branch opreates on the second input (https://www.tensorflow.org/api_docs/python/tf/keras/layers/Conv2D)\n",
        "y = tf.keras.layers.Conv2D(\n",
        "\t\t\t# Filters, Kersize, Strides, Padding,  Activation\n",
        "\t\t\tFILTERS2,         KSIZE2,    stride,      'valid',  activation = ACT2,\n",
        "\t\t\tinput_shape = input_shape_structure[1:]\n",
        "\t\t\t)(inputStructure)\n",
        "y = tf.keras.layers.Conv2D(\n",
        "\t\t\t# Filters, Kersize, Strides, Padding,  Activation\n",
        "\t\t\tFILTERS2 * 2,         KSIZE2,       stride,      'valid',  activation = ACT2,\n",
        "\t\t\t)(y)\n",
        "#y = tf.keras.layers.MaxPool2D(pool_size=PSIZE2)(y)\n",
        "y = tf.keras.layers.Conv2D(\n",
        "\t\t\t# Filters, Kersize, Strides, Padding,  Activation\n",
        "\t\t\tFILTERS2 * 2,         KSIZE2,       stride,      'valid',  activation = ACT2,\n",
        "\t\t\t)(y)\n",
        "y = tf.keras.layers.MaxPool2D(pool_size=PSIZE2)(y)\n",
        "y = tf.keras.layers.Flatten()(y)\n",
        "y = tf.keras.layers.Dropout(DROP2)(y)\n",
        "y = tf.keras.layers.Dense(NDENSE2, activation = ACT2)(y)\n",
        "y = tf.keras.layers.Dropout(DROP2)(y)\n",
        "y = tf.keras.layers.Dense(NDENSE2 // 2, activation = ACT2)(y)\n",
        "y = tf.keras.layers.Dropout(DROP2)(y)\n",
        "y = tf.keras.layers.Dense(NDENSE2 // 2 // 2, activation = ACT2)(y)\n",
        "y = tf.keras.Model(inputs = inputStructure, outputs=y)\n",
        "\n",
        "\n",
        "\n",
        "# combine the output of the two branches\n",
        "combined = tf.keras.layers.concatenate([x.output, y.output])\n",
        "z = tf.keras.layers.Dropout(DROP3)(combined)\n",
        "z = tf.keras.layers.Dense(NDENSE3, activation = ACT3)(z)\n",
        "z = tf.keras.layers.Dropout(DROP3)(z)\n",
        "z = tf.keras.layers.Dense(NDENSE3, activation = ACT3)(z)\n",
        "z = tf.keras.layers.Dense(NCATEGORIES, activation=\"softmax\")(z)\n",
        "\n",
        "# our model will accept the inputs of the two branches and\n",
        "# then output a single value\n",
        "model = tf.keras.Model(inputs=[x.input, y.input], outputs=z)\n",
        "\n",
        "# Compile the model :-)\n",
        "model.compile(optimizer=tf.keras.optimizers.SGD(learning_rate=1e-3),\n",
        "              loss=tf.keras.losses.CategoricalCrossentropy(),\n",
        "              metrics=[tf.keras.metrics.CategoricalCrossentropy(),\n",
        "\t\t\t\t\t\t\t                tf.keras.metrics.Accuracy(),\n",
        "                       #tf.keras.metrics.AUC(),\n",
        "\t\t\t\t\t\t\t\t\t\t\t            ])\n",
        "\n",
        "\n",
        "# Print input size and make fake dataset\n",
        "print(model.summary())\n",
        "IShape = model.input_shape\n",
        "OShape = model.output_shape\n",
        "\n",
        "\n"
      ],
      "metadata": {
        "colab": {
          "base_uri": "https://localhost:8080/"
        },
        "id": "0g4gcQStkS5q",
        "outputId": "b1bd7062-b483-4216-979d-c4aafaee1990"
      },
      "execution_count": 6,
      "outputs": [
        {
          "output_type": "stream",
          "name": "stdout",
          "text": [
            "Model: \"model_2\"\n",
            "__________________________________________________________________________________________________\n",
            " Layer (type)                   Output Shape         Param #     Connected to                     \n",
            "==================================================================================================\n",
            " input_2 (InputLayer)           [(None, 8, 5709, 2)  0           []                               \n",
            "                                ]                                                                 \n",
            "                                                                                                  \n",
            " input_1 (InputLayer)           [(None, 8, 5712, 1)  0           []                               \n",
            "                                ]                                                                 \n",
            "                                                                                                  \n",
            " conv2d_3 (Conv2D)              (None, 7, 5708, 8)   72          ['input_2[0][0]']                \n",
            "                                                                                                  \n",
            " conv2d (Conv2D)                (None, 7, 5712, 8)   24          ['input_1[0][0]']                \n",
            "                                                                                                  \n",
            " conv2d_4 (Conv2D)              (None, 6, 5707, 16)  528         ['conv2d_3[0][0]']               \n",
            "                                                                                                  \n",
            " conv2d_1 (Conv2D)              (None, 6, 5712, 16)  272         ['conv2d[0][0]']                 \n",
            "                                                                                                  \n",
            " conv2d_5 (Conv2D)              (None, 5, 5706, 16)  1040        ['conv2d_4[0][0]']               \n",
            "                                                                                                  \n",
            " conv2d_2 (Conv2D)              (None, 5, 5712, 16)  528         ['conv2d_1[0][0]']               \n",
            "                                                                                                  \n",
            " max_pooling2d (MaxPooling2D)   (None, 1, 5706, 16)  0           ['conv2d_5[0][0]']               \n",
            "                                                                                                  \n",
            " flatten (Flatten)              (None, 456960)       0           ['conv2d_2[0][0]']               \n",
            "                                                                                                  \n",
            " flatten_1 (Flatten)            (None, 91296)        0           ['max_pooling2d[0][0]']          \n",
            "                                                                                                  \n",
            " dropout (Dropout)              (None, 456960)       0           ['flatten[0][0]']                \n",
            "                                                                                                  \n",
            " dropout_3 (Dropout)            (None, 91296)        0           ['flatten_1[0][0]']              \n",
            "                                                                                                  \n",
            " dense (Dense)                  (None, 16)           7311376     ['dropout[0][0]']                \n",
            "                                                                                                  \n",
            " dense_3 (Dense)                (None, 16)           1460752     ['dropout_3[0][0]']              \n",
            "                                                                                                  \n",
            " dropout_1 (Dropout)            (None, 16)           0           ['dense[0][0]']                  \n",
            "                                                                                                  \n",
            " dropout_4 (Dropout)            (None, 16)           0           ['dense_3[0][0]']                \n",
            "                                                                                                  \n",
            " dense_1 (Dense)                (None, 8)            136         ['dropout_1[0][0]']              \n",
            "                                                                                                  \n",
            " dense_4 (Dense)                (None, 8)            136         ['dropout_4[0][0]']              \n",
            "                                                                                                  \n",
            " dropout_2 (Dropout)            (None, 8)            0           ['dense_1[0][0]']                \n",
            "                                                                                                  \n",
            " dropout_5 (Dropout)            (None, 8)            0           ['dense_4[0][0]']                \n",
            "                                                                                                  \n",
            " dense_2 (Dense)                (None, 4)            36          ['dropout_2[0][0]']              \n",
            "                                                                                                  \n",
            " dense_5 (Dense)                (None, 4)            36          ['dropout_5[0][0]']              \n",
            "                                                                                                  \n",
            " concatenate (Concatenate)      (None, 8)            0           ['dense_2[0][0]',                \n",
            "                                                                  'dense_5[0][0]']                \n",
            "                                                                                                  \n",
            " dropout_6 (Dropout)            (None, 8)            0           ['concatenate[0][0]']            \n",
            "                                                                                                  \n",
            " dense_6 (Dense)                (None, 8)            72          ['dropout_6[0][0]']              \n",
            "                                                                                                  \n",
            " dropout_7 (Dropout)            (None, 8)            0           ['dense_6[0][0]']                \n",
            "                                                                                                  \n",
            " dense_7 (Dense)                (None, 8)            72          ['dropout_7[0][0]']              \n",
            "                                                                                                  \n",
            " dense_8 (Dense)                (None, 2)            18          ['dense_7[0][0]']                \n",
            "                                                                                                  \n",
            "==================================================================================================\n",
            "Total params: 8,775,098\n",
            "Trainable params: 8,775,098\n",
            "Non-trainable params: 0\n",
            "__________________________________________________________________________________________________\n",
            "None\n"
          ]
        }
      ]
    },
    {
      "cell_type": "code",
      "source": [
        "\n",
        "\n",
        "X1, X20, Y = data['X1'],data['X2'],data['Y']\n",
        "ONE_HOT_Y = np.zeros((len(Y),2))\n",
        "for i in range(len(Y)):\n",
        "    ONE_HOT_Y[i,Y[i]] = 1\n",
        "ONE_HOT_Y = ONE_HOT_Y.astype('float32')\n",
        "L = len(X1)\n",
        "LTR = int(L*(1-VAL))\n",
        "B = 10\n",
        "LTR = LTR//B * B # LTR is approximated to the closest multiple of B :-)\n",
        "LVA = L - LTR\n",
        "LVA = LVA // B * B # THe same for LVA\n",
        "BATCH = BATCH // B * B # And the same for Batch Size\n",
        "\n",
        "assert(len(X1)==len(X20)==len(Y))\n",
        "\n",
        "X1_TRACKER = []\n",
        "for X_ in X1:\n",
        "    X1_TRACKER.append((ML-len(X_)))\n",
        "\n",
        "X2 = [[] for _ in range(len(X20))]\n",
        "X2_TRACKER = []\n",
        "for i,X_ in enumerate(X20):\n",
        "    c = 0\n",
        "    for i_,y_ in enumerate(X_):\n",
        "        for z in y_:\n",
        "            X2[i] += [[float(i_),float(z)]]\n",
        "            c += 1\n",
        "    X2_TRACKER.append(MI-c) \n",
        "\n",
        "\n",
        "def produce_data(A,B):\n",
        "    w = list(range(A,B))\n",
        "    np.random.shuffle(w)\n",
        "    for i in w:\n",
        "            yield (\n",
        "                    ( tf.convert_to_tensor(np.asarray([ (X1[j] + [0.] * X1_TRACKER[j]) for j in range(i-T+1,i+1)]).reshape(1,T,-1,1)), \n",
        "                      tf.convert_to_tensor(np.asarray([ (X2[j] + [[0., 0.]] * X2_TRACKER[j]) for j in range(i-T+1,i+1)]).reshape(1,T,-1,2)),\n",
        "                    ), \n",
        "                    tf.convert_to_tensor(ONE_HOT_Y[i:i+1,:].reshape(1,2)),\n",
        "                  )\n",
        "\n",
        "\n",
        "OS = (\n",
        "          (tf.TensorSpec(shape=(None,8,5712,1), dtype=tf.float32),\n",
        "          tf.TensorSpec(shape=(None,8,5709,2), dtype=tf.float32)),\n",
        "          tf.TensorSpec(shape=(None,2), dtype=tf.float32),\n",
        "    )\n",
        "\n",
        "print(f'Finished building the output structure')\n",
        "trainD = tf.data.Dataset.from_generator(lambda: produce_data(T,LTR), output_signature=OS)#output_types=(tf.float32), output_shapes=OS)\n",
        "print(f'Finished building the training dataset')\n",
        "valD = tf.data.Dataset.from_generator(lambda: produce_data(LTR+T,L), output_signature=OS)# output_types=(tf.float32), output_shapes=OS)\n",
        "print(f'Finished building the validation dataset')\n",
        "\n",
        "print(f'About to train! :-)')\n",
        "history = model.fit(trainD, epochs=1, batch_size=200, validation_data=valD, verbose=2)\n",
        "\n",
        "print('Finished training! :-)')\n"
      ],
      "metadata": {
        "colab": {
          "base_uri": "https://localhost:8080/",
          "height": 933
        },
        "id": "9ykTxt9Ll-8Y",
        "outputId": "1b0d7123-77aa-48c3-cf81-ab1cee2fd2df"
      },
      "execution_count": 8,
      "outputs": [
        {
          "output_type": "stream",
          "name": "stdout",
          "text": [
            "Finished building the output structure\n",
            "Finished building the training dataset\n",
            "Finished building the validation dataset\n",
            "About to train! :-)\n",
            "622/622 - 72s - loss: 0.6334 - categorical_crossentropy: 0.6334 - val_loss: 0.6968 - val_categorical_crossentropy: 0.6968 - 72s/epoch - 116ms/step\n",
            "dict_keys(['loss', 'categorical_crossentropy', 'val_loss', 'val_categorical_crossentropy'])\n"
          ]
        },
        {
          "output_type": "error",
          "ename": "KeyError",
          "evalue": "ignored",
          "traceback": [
            "\u001b[0;31m---------------------------------------------------------------------------\u001b[0m",
            "\u001b[0;31mKeyError\u001b[0m                                  Traceback (most recent call last)",
            "\u001b[0;32m<ipython-input-8-956ff1204b87>\u001b[0m in \u001b[0;36m<module>\u001b[0;34m()\u001b[0m\n\u001b[1;32m     66\u001b[0m \u001b[0max\u001b[0m\u001b[0;34m[\u001b[0m\u001b[0;36m0\u001b[0m\u001b[0;34m]\u001b[0m\u001b[0;34m.\u001b[0m\u001b[0mplot\u001b[0m\u001b[0;34m(\u001b[0m\u001b[0mhistory\u001b[0m\u001b[0;34m.\u001b[0m\u001b[0mhistory\u001b[0m\u001b[0;34m[\u001b[0m\u001b[0;34m'val_loss'\u001b[0m\u001b[0;34m]\u001b[0m\u001b[0;34m,\u001b[0m \u001b[0mlabel\u001b[0m\u001b[0;34m=\u001b[0m\u001b[0;34m'val loss'\u001b[0m\u001b[0;34m)\u001b[0m\u001b[0;34m\u001b[0m\u001b[0;34m\u001b[0m\u001b[0m\n\u001b[1;32m     67\u001b[0m \u001b[0max\u001b[0m\u001b[0;34m[\u001b[0m\u001b[0;36m0\u001b[0m\u001b[0;34m]\u001b[0m\u001b[0;34m.\u001b[0m\u001b[0mlegend\u001b[0m\u001b[0;34m(\u001b[0m\u001b[0;34m)\u001b[0m\u001b[0;34m\u001b[0m\u001b[0;34m\u001b[0m\u001b[0m\n\u001b[0;32m---> 68\u001b[0;31m \u001b[0max\u001b[0m\u001b[0;34m[\u001b[0m\u001b[0;36m1\u001b[0m\u001b[0;34m]\u001b[0m\u001b[0;34m.\u001b[0m\u001b[0mplot\u001b[0m\u001b[0;34m(\u001b[0m\u001b[0mhistory\u001b[0m\u001b[0;34m.\u001b[0m\u001b[0mhistory\u001b[0m\u001b[0;34m[\u001b[0m\u001b[0;34m'auc'\u001b[0m\u001b[0;34m]\u001b[0m\u001b[0;34m,\u001b[0m\u001b[0mlabel\u001b[0m\u001b[0;34m=\u001b[0m\u001b[0;34m'auc'\u001b[0m\u001b[0;34m)\u001b[0m\u001b[0;34m\u001b[0m\u001b[0;34m\u001b[0m\u001b[0m\n\u001b[0m\u001b[1;32m     69\u001b[0m \u001b[0max\u001b[0m\u001b[0;34m[\u001b[0m\u001b[0;36m1\u001b[0m\u001b[0;34m]\u001b[0m\u001b[0;34m.\u001b[0m\u001b[0mplot\u001b[0m\u001b[0;34m(\u001b[0m\u001b[0mhistory\u001b[0m\u001b[0;34m.\u001b[0m\u001b[0mhistory\u001b[0m\u001b[0;34m[\u001b[0m\u001b[0;34m'val_auc'\u001b[0m\u001b[0;34m]\u001b[0m\u001b[0;34m,\u001b[0m \u001b[0mlabel\u001b[0m\u001b[0;34m=\u001b[0m\u001b[0;34m'val auc'\u001b[0m\u001b[0;34m)\u001b[0m\u001b[0;34m\u001b[0m\u001b[0;34m\u001b[0m\u001b[0m\n\u001b[1;32m     70\u001b[0m \u001b[0max\u001b[0m\u001b[0;34m[\u001b[0m\u001b[0;36m1\u001b[0m\u001b[0;34m]\u001b[0m\u001b[0;34m.\u001b[0m\u001b[0mset_ylim\u001b[0m\u001b[0;34m(\u001b[0m\u001b[0;36m0\u001b[0m\u001b[0;34m,\u001b[0m\u001b[0;36m1\u001b[0m\u001b[0;34m)\u001b[0m\u001b[0;34m\u001b[0m\u001b[0;34m\u001b[0m\u001b[0m\n",
            "\u001b[0;31mKeyError\u001b[0m: 'auc'"
          ]
        },
        {
          "output_type": "display_data",
          "data": {
            "image/png": "[encoded data removed]",
            "text/plain": [
              "<Figure size 1080x720 with 2 Axes>"
            ]
          },
          "metadata": {
            "needs_background": "light"
          }
        }
      ]
    },
    {
      "cell_type": "code",
      "source": [
        "# Display results\n",
        "print(history.history.keys())\n",
        "f,ax = plt.subplots(1,2,figsize=(15,10))\n",
        "ax[0].plot(history.history['loss'],label='loss')\n",
        "ax[0].plot(history.history['val_loss'], label='val loss')\n",
        "ax[0].legend()\n",
        "# ax[1].plot(history.history['auc'],label='auc')\n",
        "# ax[1].plot(history.history['val_auc'], label='val auc')\n",
        "ax[1].set_ylim(0,1)\n",
        "ax[1].legend()\t\t\t\t\t\t\t\t\t\t\t\t\t\t\t\t\t\t\t\t\t\t\t\t\t\t\t\t\t\t\t\t\t\t\t\t\t\t\t\t\t\t\t\t\t\t\t\t\t\t\t\t\t\t\t\t\t\t\t\t\t\t\t\t\t\t\t\t\t\t\t\t\t\t\t\t\t\t\t\t\t\t\t\t\t\t\t\t\t\t\t\t\t\t\t\t\t\t\t\t\t\t\t\t\t\t\t\t\t\t\t\t\t\t\t\t\t\t\t\t\t\t\t\t\t\t\t\t\t\t\t\t\t\t\t\t\t\t\t\t\t\t\t\t\t\t\t\t\t\t\t\t\t\t\t\t\t\t\t\t\t\t\t\t\n",
        "plt.show()\n",
        "\n",
        "print(history.history['loss'], history.history['val_loss'])"
      ],
      "metadata": {
        "id": "rktl-jpbmLRR",
        "outputId": "9ca815b5-b581-4225-fdbb-ad5639ec5015",
        "colab": {
          "base_uri": "https://localhost:8080/",
          "height": 650
        }
      },
      "execution_count": 10,
      "outputs": [
        {
          "output_type": "stream",
          "name": "stderr",
          "text": [
            "No handles with labels found to put in legend.\n"
          ]
        },
        {
          "output_type": "stream",
          "name": "stdout",
          "text": [
            "dict_keys(['loss', 'categorical_crossentropy', 'val_loss', 'val_categorical_crossentropy'])\n"
          ]
        },
        {
          "output_type": "display_data",
          "data": {
            "image/png": "[encoded data removed]",
            "text/plain": [
              "<Figure size 1080x720 with 2 Axes>"
            ]
          },
          "metadata": {
            "needs_background": "light"
          }
        },
        {
          "output_type": "stream",
          "name": "stdout",
          "text": [
            "[0.6333986520767212] [0.6967979669570923]\n"
          ]
        }
      ]
    },
    {
      "cell_type": "code",
      "source": [
        ""
      ],
      "metadata": {
        "id": "j0VBVFx0nMh2"
      },
      "execution_count": null,
      "outputs": []
    }
  ]
}