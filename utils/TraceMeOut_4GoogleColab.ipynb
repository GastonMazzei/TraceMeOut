{
  "nbformat": 4,
  "nbformat_minor": 0,
  "metadata": {
    "colab": {
      "name": "TraceMeOut-4GoogleColab.ipynb",
      "provenance": []
    },
    "kernelspec": {
      "name": "python3",
      "display_name": "Python 3"
    },
    "language_info": {
      "name": "python"
    },
    "accelerator": "GPU"
  },
  "cells": [
    {
      "cell_type": "markdown",
      "source": [
        "# <b>Required Imports</b>"
      ],
      "metadata": {
        "id": "S6WiCYxRYJMy"
      }
    },
    {
      "cell_type": "code",
      "execution_count": 1,
      "metadata": {
        "colab": {
          "base_uri": "https://localhost:8080/"
        },
        "id": "1NJdGVNSkPlx",
        "outputId": "80b35f1f-c806-49d4-a457-0ede5f52b06e"
      },
      "outputs": [
        {
          "output_type": "stream",
          "name": "stdout",
          "text": [
            "2.7.0\n"
          ]
        }
      ],
      "source": [
        "import pickle,sys,os\n",
        "\n",
        "import tensorflow as tf\n",
        "import numpy as np\n",
        "import matplotlib.pyplot as plt\n",
        "\n",
        "print(tf.__version__)"
      ]
    },
    {
      "cell_type": "code",
      "source": [
        "!wget https://github.com/GastonMazzei/TraceMeOut/blob/main/processed_trace/Dataset0.pkl?raw=true\n",
        "!wget https://github.com/GastonMazzei/TraceMeOut/blob/main/processed_trace/Dataset1.pkl?raw=true\n",
        "!wget https://github.com/GastonMazzei/TraceMeOut/blob/main/processed_trace/Dataset2.pkl?raw=true\n",
        "!wget https://github.com/GastonMazzei/TraceMeOut/blob/main/processed_trace/Dataset3.pkl?raw=true"
      ],
      "metadata": {
        "colab": {
          "base_uri": "https://localhost:8080/"
        },
        "id": "wRjDxDxSlffM",
        "outputId": "d3cfcb89-ef93-4cbe-d230-b01c02a4385e"
      },
      "execution_count": 2,
      "outputs": [
        {
          "output_type": "stream",
          "name": "stdout",
          "text": [
            "--2021-12-30 11:45:44--  https://github.com/GastonMazzei/TraceMeOut/blob/main/processed_trace/Dataset0.pkl?raw=true\n",
            "Resolving github.com (github.com)... 140.82.112.3\n",
            "Connecting to github.com (github.com)|140.82.112.3|:443... connected.\n",
            "HTTP request sent, awaiting response... 302 Found\n",
            "Location: https://github.com/GastonMazzei/TraceMeOut/raw/main/processed_trace/Dataset0.pkl [following]\n",
            "--2021-12-30 11:45:44--  https://github.com/GastonMazzei/TraceMeOut/raw/main/processed_trace/Dataset0.pkl\n",
            "Reusing existing connection to github.com:443.\n",
            "HTTP request sent, awaiting response... 302 Found\n",
            "Location: https://raw.githubusercontent.com/GastonMazzei/TraceMeOut/main/processed_trace/Dataset0.pkl [following]\n",
            "--2021-12-30 11:45:44--  https://raw.githubusercontent.com/GastonMazzei/TraceMeOut/main/processed_trace/Dataset0.pkl\n",
            "Resolving raw.githubusercontent.com (raw.githubusercontent.com)... 185.199.109.133, 185.199.111.133, 185.199.108.133, ...\n",
            "Connecting to raw.githubusercontent.com (raw.githubusercontent.com)|185.199.109.133|:443... connected.\n",
            "HTTP request sent, awaiting response... 200 OK\n",
            "Length: 3095332 (3.0M) [application/octet-stream]\n",
            "Saving to: ‘Dataset0.pkl?raw=true’\n",
            "\n",
            "Dataset0.pkl?raw=tr 100%[===================>]   2.95M  --.-KB/s    in 0.06s   \n",
            "\n",
            "2021-12-30 11:45:45 (46.3 MB/s) - ‘Dataset0.pkl?raw=true’ saved [3095332/3095332]\n",
            "\n"
          ]
        }
      ]
    },
    {
      "cell_type": "code",
      "source": [
        "!ls"
      ],
      "metadata": {
        "colab": {
          "base_uri": "https://localhost:8080/"
        },
        "id": "AeBPa_RrlnaD",
        "outputId": "c1e03351-8fb1-4fd1-f75d-cdbf4c07af9f"
      },
      "execution_count": 3,
      "outputs": [
        {
          "output_type": "stream",
          "name": "stdout",
          "text": [
            "'Dataset0.pkl?raw=true'   sample_data\n"
          ]
        }
      ]
    },
    {
      "cell_type": "code",
      "source": [
        "with open('Dataset0.pkl?raw=true','rb') as f:\n",
        "  data = pickle.load(f)\n",
        "\n",
        "# NEW! We load data from all processors! :-)\n",
        "# datas = {}\n",
        "# for n in [0,1,2,3]:\n",
        "#   with open(f'Dataset{n}.pkl?raw=true','rb') as f:\n",
        "#     datas[n] = pickle.load(f)"
      ],
      "metadata": {
        "id": "_AFenX9QlrWx"
      },
      "execution_count": 4,
      "outputs": []
    },
    {
      "cell_type": "markdown",
      "source": [
        "#<b>Configuration File: architecture & hyperparameters</b>\n",
        "\n",
        "(<i>If the datasets change in the repo, non-architectural information should be updated using the configuration.py file. Most probably an error will be raised because of size mismatch if this is not updated.</i>)"
      ],
      "metadata": {
        "id": "ZoqNt7-YYn-q"
      }
    },
    {
      "cell_type": "code",
      "source": [
        "\n",
        "# Model-specific parameters\n",
        "T=8 # duration of the window in dt units\n",
        "dt = 100000 # time in microseconds\n",
        "UNIQUES=3807  #number of unique ids\n",
        "MI=5709  #max number of interactions\n",
        "ML=5712  #max number of leaves\n",
        "NCATEGORIES=2\n",
        "\n",
        "# Architectural parameters\n",
        "ACT1 = 'relu'\n",
        "FILTERS1 = 4\n",
        "KSIZE1 = (2,1)\n",
        "PSIZE1 = (max([T//4,2]),)\n",
        "NDENSE1 = 8\n",
        "DROP1 = 0.4\n",
        "\n",
        "ACT2 = 'relu'\n",
        "FILTERS2 = 4\n",
        "KSIZE2 = (2,2)\n",
        "PSIZE2 = (max([T//2,2]),1)\n",
        "stride = (1,1)\n",
        "NDENSE2 = 8\n",
        "DROP2 = 0.75\n",
        "\n",
        "ACT3='relu'\n",
        "NDENSE3=8\n",
        "DROP3 = 0.4\n",
        "\n",
        "# Training parameters\n",
        "VAL=0.25\n",
        "BATCH=10\n",
        "EPOCHS=50\n",
        "L=5 # a length used to generate random data just for testing\n",
        "LR=0.05\n",
        "\n",
        "# Extras\n",
        "POOLING = False\n",
        "PROCS=[3, 2, 0, 1]"
      ],
      "metadata": {
        "id": "nsC-H7jvkmMn"
      },
      "execution_count": 51,
      "outputs": []
    },
    {
      "cell_type": "code",
      "source": [
        "# define two sets of inputs: \n",
        "input_shape_flavours = (BATCH, T, ML, 1)\n",
        "input_shape_structure = (BATCH, T, MI, 2)\n",
        "inputFlavours = tf.keras.Input(shape=input_shape_flavours[1:])\n",
        "inputStructure = tf.keras.Input(shape=input_shape_structure[1:])\n",
        "\n",
        "# the first branch operates on the first input (https://www.tensorflow.org/api_docs/python/tf/keras/layers/Conv1D)\n",
        "x = tf.keras.layers.Conv2D(\n",
        "\t\t\t# Filters, Kersize, Strides, Padding,  Activation\n",
        "\t\t\tFILTERS1,         KSIZE1,       (1,1),      'valid',  activation = ACT1,\n",
        "\t\t\tinput_shape = input_shape_flavours[1:]\n",
        "\t\t\t)(inputFlavours)\n",
        "x = tf.keras.layers.Conv2D(\n",
        "\t\t\t# Filters, Kersize, Strides, Padding,  Activation\n",
        "\t\t\tFILTERS1 * 2,         KSIZE1,       (1,1),      'valid',  activation = ACT1,\n",
        "\t\t\t)(x)\n",
        "x = tf.keras.layers.Conv2D(\n",
        "\t\t\t# Filters, Kersize, Strides, Padding,  Activation\n",
        "\t\t\tFILTERS1 * 2,         KSIZE1,       (1,1),      'valid',  activation = ACT1,\n",
        "\t\t\t)(x)\n",
        "#x = tf.keras.layers.MaxPool1D(pool_size=PSIZE1)(x)\n",
        "x = tf.keras.layers.Flatten()(x)\n",
        "x = tf.keras.layers.Dropout(DROP1)(x)\n",
        "x = tf.keras.layers.Dense(NDENSE1, activation = ACT1)(x)\n",
        "x = tf.keras.layers.Dropout(DROP1)(x)\n",
        "x = tf.keras.layers.Dense(NDENSE1 // 2, activation = ACT1)(x)\n",
        "x = tf.keras.layers.Dropout(DROP1)(x)\n",
        "x = tf.keras.layers.Dense(NDENSE1 // 2 // 2, activation = ACT1)(x)\n",
        "x = tf.keras.Model(inputs = inputFlavours, outputs=x)\n",
        "\n",
        "# the second branch opreates on the second input (https://www.tensorflow.org/api_docs/python/tf/keras/layers/Conv2D)\n",
        "y = tf.keras.layers.Conv2D(\n",
        "\t\t\t# Filters, Kersize, Strides, Padding,  Activation\n",
        "\t\t\tFILTERS2,         KSIZE2,    stride,      'valid',  activation = ACT2,\n",
        "\t\t\tinput_shape = input_shape_structure[1:]\n",
        "\t\t\t)(inputStructure)\n",
        "y = tf.keras.layers.Conv2D(\n",
        "\t\t\t# Filters, Kersize, Strides, Padding,  Activation\n",
        "\t\t\tFILTERS2 * 2,         KSIZE2,       stride,      'valid',  activation = ACT2,\n",
        "\t\t\t)(y)\n",
        "#y = tf.keras.layers.MaxPool2D(pool_size=PSIZE2)(y)\n",
        "y = tf.keras.layers.Conv2D(\n",
        "\t\t\t# Filters, Kersize, Strides, Padding,  Activation\n",
        "\t\t\tFILTERS2 * 2,         KSIZE2,       stride,      'valid',  activation = ACT2,\n",
        "\t\t\t)(y)\n",
        "y = tf.keras.layers.MaxPool2D(pool_size=PSIZE2)(y)\n",
        "y = tf.keras.layers.Flatten()(y)\n",
        "y = tf.keras.layers.Dropout(DROP2)(y)\n",
        "y = tf.keras.layers.Dense(NDENSE2, activation = ACT2)(y)\n",
        "y = tf.keras.layers.Dropout(DROP2)(y)\n",
        "y = tf.keras.layers.Dense(NDENSE2 // 2, activation = ACT2)(y)\n",
        "y = tf.keras.layers.Dropout(DROP2)(y)\n",
        "y = tf.keras.layers.Dense(NDENSE2 // 2 // 2, activation = ACT2)(y)\n",
        "y = tf.keras.Model(inputs = inputStructure, outputs=y)\n",
        "\n",
        "\n",
        "\n",
        "# combine the output of the two branches\n",
        "combined = tf.keras.layers.concatenate([x.output, y.output])\n",
        "z = tf.keras.layers.Dropout(DROP3)(combined)\n",
        "z = tf.keras.layers.Dense(NDENSE3, activation = ACT3)(z)\n",
        "z = tf.keras.layers.Dropout(DROP3)(z)\n",
        "z = tf.keras.layers.Dense(NDENSE3, activation = ACT3)(z)\n",
        "z = tf.keras.layers.Dense(NCATEGORIES, activation=\"softmax\")(z)\n",
        "\n",
        "# our model will accept the inputs of the two branches and\n",
        "# then output a single value\n",
        "model = tf.keras.Model(inputs=[x.input, y.input], outputs=z)\n",
        "\n",
        "# Compile the model :-)\n",
        "model.compile(optimizer=tf.keras.optimizers.SGD(learning_rate=LR),\n",
        "              loss=tf.keras.losses.CategoricalCrossentropy(),\n",
        "              metrics=[\n",
        "\t\t\t\t\t\t\t\t       #tf.keras.metrics.CategoricalCrossentropy(),\n",
        "\t\t\t\t\t\t\t         tf.keras.metrics.CategoricalAccuracy(),\n",
        "                       #tf.keras.metrics.AUC(),\n",
        "\t\t\t\t\t\t\t\t\t\t\t])\n",
        "\n",
        "\n",
        "# Print input size\n",
        "print(model.summary())\n",
        "IShape = model.input_shape\n",
        "OShape = model.output_shape"
      ],
      "metadata": {
        "colab": {
          "base_uri": "https://localhost:8080/"
        },
        "id": "0g4gcQStkS5q",
        "outputId": "664d1b2a-cdc7-485f-e01e-c81fa208af1f"
      },
      "execution_count": 52,
      "outputs": [
        {
          "output_type": "stream",
          "name": "stdout",
          "text": [
            "Model: \"model_24\"\n",
            "__________________________________________________________________________________________________\n",
            " Layer (type)                   Output Shape         Param #     Connected to                     \n",
            "==================================================================================================\n",
            " input_20 (InputLayer)          [(None, 8, 5709, 2)  0           []                               \n",
            "                                ]                                                                 \n",
            "                                                                                                  \n",
            " input_19 (InputLayer)          [(None, 8, 5712, 1)  0           []                               \n",
            "                                ]                                                                 \n",
            "                                                                                                  \n",
            " conv2d_52 (Conv2D)             (None, 7, 5708, 4)   36          ['input_20[0][0]']               \n",
            "                                                                                                  \n",
            " conv2d_49 (Conv2D)             (None, 7, 5712, 4)   12          ['input_19[0][0]']               \n",
            "                                                                                                  \n",
            " conv2d_53 (Conv2D)             (None, 6, 5707, 8)   136         ['conv2d_52[0][0]']              \n",
            "                                                                                                  \n",
            " conv2d_50 (Conv2D)             (None, 6, 5712, 8)   72          ['conv2d_49[0][0]']              \n",
            "                                                                                                  \n",
            " conv2d_54 (Conv2D)             (None, 5, 5706, 8)   264         ['conv2d_53[0][0]']              \n",
            "                                                                                                  \n",
            " conv2d_51 (Conv2D)             (None, 5, 5712, 8)   136         ['conv2d_50[0][0]']              \n",
            "                                                                                                  \n",
            " max_pooling2d_8 (MaxPooling2D)  (None, 1, 5706, 8)  0           ['conv2d_54[0][0]']              \n",
            "                                                                                                  \n",
            " flatten_15 (Flatten)           (None, 228480)       0           ['conv2d_51[0][0]']              \n",
            "                                                                                                  \n",
            " flatten_16 (Flatten)           (None, 45648)        0           ['max_pooling2d_8[0][0]']        \n",
            "                                                                                                  \n",
            " dropout_59 (Dropout)           (None, 228480)       0           ['flatten_15[0][0]']             \n",
            "                                                                                                  \n",
            " dropout_62 (Dropout)           (None, 45648)        0           ['flatten_16[0][0]']             \n",
            "                                                                                                  \n",
            " dense_66 (Dense)               (None, 8)            1827848     ['dropout_59[0][0]']             \n",
            "                                                                                                  \n",
            " dense_69 (Dense)               (None, 8)            365192      ['dropout_62[0][0]']             \n",
            "                                                                                                  \n",
            " dropout_60 (Dropout)           (None, 8)            0           ['dense_66[0][0]']               \n",
            "                                                                                                  \n",
            " dropout_63 (Dropout)           (None, 8)            0           ['dense_69[0][0]']               \n",
            "                                                                                                  \n",
            " dense_67 (Dense)               (None, 4)            36          ['dropout_60[0][0]']             \n",
            "                                                                                                  \n",
            " dense_70 (Dense)               (None, 4)            36          ['dropout_63[0][0]']             \n",
            "                                                                                                  \n",
            " dropout_61 (Dropout)           (None, 4)            0           ['dense_67[0][0]']               \n",
            "                                                                                                  \n",
            " dropout_64 (Dropout)           (None, 4)            0           ['dense_70[0][0]']               \n",
            "                                                                                                  \n",
            " dense_68 (Dense)               (None, 2)            10          ['dropout_61[0][0]']             \n",
            "                                                                                                  \n",
            " dense_71 (Dense)               (None, 2)            10          ['dropout_64[0][0]']             \n",
            "                                                                                                  \n",
            " concatenate_7 (Concatenate)    (None, 4)            0           ['dense_68[0][0]',               \n",
            "                                                                  'dense_71[0][0]']               \n",
            "                                                                                                  \n",
            " dropout_65 (Dropout)           (None, 4)            0           ['concatenate_7[0][0]']          \n",
            "                                                                                                  \n",
            " dense_72 (Dense)               (None, 8)            40          ['dropout_65[0][0]']             \n",
            "                                                                                                  \n",
            " dropout_66 (Dropout)           (None, 8)            0           ['dense_72[0][0]']               \n",
            "                                                                                                  \n",
            " dense_73 (Dense)               (None, 8)            72          ['dropout_66[0][0]']             \n",
            "                                                                                                  \n",
            " dense_74 (Dense)               (None, 2)            18          ['dense_73[0][0]']               \n",
            "                                                                                                  \n",
            "==================================================================================================\n",
            "Total params: 2,193,918\n",
            "Trainable params: 2,193,918\n",
            "Non-trainable params: 0\n",
            "__________________________________________________________________________________________________\n",
            "None\n"
          ]
        }
      ]
    },
    {
      "cell_type": "markdown",
      "source": [
        "#<b>Building the dataset generators to feed the Neural Net</b>"
      ],
      "metadata": {
        "id": "OeXDr3wfZLc4"
      }
    },
    {
      "cell_type": "code",
      "source": [
        "X1, X20, Y = data['X1'],data['X2'],data['Y']\n",
        "ONE_HOT_Y = np.zeros((len(Y),2))\n",
        "for i in range(len(Y)):\n",
        "    ONE_HOT_Y[i,Y[i]] = 1\n",
        "ONE_HOT_Y = ONE_HOT_Y.astype('float32')\n",
        "L = len(X1)\n",
        "LTR = int(L*(1-VAL))\n",
        "print(f\"Old batch size was: {BATCH}\")\n",
        "B = 32\n",
        "LTR = LTR//B * B # LTR is approximated to the closest multiple of B :-)\n",
        "LVA = L - LTR\n",
        "LVA = LVA // B * B # THe same for LVA\n",
        "BATCH = (BATCH // B + 1) * B # And the same for Batch Size\n",
        "print(f\"New batch size is: {BATCH}, LVA and LTR are: {LVA}, {LTR} and L is {L}, ... does L>=LTR+LVA? {L>=(LTR+LVA)}\")\n",
        "\n",
        "assert(len(X1)==len(X20)==len(Y))\n",
        "\n",
        "X1_TRACKER = []\n",
        "for i_,X_ in enumerate(X1):\n",
        "    X1_TRACKER.append((ML-len(X_)))\n",
        "    X1[i_] = [float(x) / UNIQUES for x in X_]\n",
        "\n",
        "X2 = [[] for _ in range(len(X20))]\n",
        "X2_TRACKER = []\n",
        "for i,X_ in enumerate(X20):\n",
        "    c = 0\n",
        "    for i_,y_ in enumerate(X_):\n",
        "        for z in y_:\n",
        "            X2[i] += [[float(i_)/ML,float(z)/ML]]\n",
        "            c += 1\n",
        "    X2_TRACKER.append(MI-c) \n",
        "\n",
        "print(X1[0][:5])\n",
        "print(X2[0][:5])\n",
        "\n",
        "def produce_data(A,B):\n",
        "    w = list(range(A,B))\n",
        "    np.random.shuffle(w)\n",
        "    for i in w:\n",
        "            yield (\n",
        "                    ( tf.convert_to_tensor(np.asarray([ (X1[j] + [0.] * X1_TRACKER[j]) for j in range(i-T+1,i+1)]).reshape(1,T,-1,1)), \n",
        "                      tf.convert_to_tensor(np.asarray([ (X2[j] + [[0., 0.]] * X2_TRACKER[j]) for j in range(i-T+1,i+1)]).reshape(1,T,-1,2)),\n",
        "                    ), \n",
        "                    tf.convert_to_tensor(ONE_HOT_Y[i:i+1,:].reshape(1,2)),\n",
        "                  )\n",
        "\n",
        "\n",
        "OS = (\n",
        "          (tf.TensorSpec(shape=(None,T,ML,1), dtype=tf.float32),\n",
        "          tf.TensorSpec(shape=(None,T,MI,2), dtype=tf.float32)),\n",
        "          tf.TensorSpec(shape=(None,NCATEGORIES), dtype=tf.float32),\n",
        "    )\n",
        "\n",
        "print(f'Finished building the output structure')\n",
        "trainD = tf.data.Dataset.from_generator(lambda: produce_data(T,LTR), output_signature=OS)#output_types=(tf.float32), output_shapes=OS)\n",
        "print(f'Finished building the training dataset')\n",
        "valD = tf.data.Dataset.from_generator(lambda: produce_data(LTR+T,L), output_signature=OS)# output_types=(tf.float32), output_shapes=OS)\n",
        "print(f'Finished building the validation dataset')\n"
      ],
      "metadata": {
        "colab": {
          "base_uri": "https://localhost:8080/"
        },
        "id": "9ykTxt9Ll-8Y",
        "outputId": "a49cf042-0bc7-4906-f2a4-9995f07c91c7"
      },
      "execution_count": 53,
      "outputs": [
        {
          "output_type": "stream",
          "name": "stdout",
          "text": [
            "Old batch size was: 10\n",
            "New batch size is: 32, LVA and LTR are: 224, 608 and L is 853, ... does L>=LTR+LVA? True\n",
            "[5.762098596077058e-48, 5.769543167906613e-48, 2.2854835516739744e-48, 2.292928123503532e-48, 5.776987739736169e-48]\n",
            "[[0.0, 0.00017507002801120448], [0.0, 0.03413865546218487], [0.0, 0.038865546218487396], [0.0, 0.0469187675070028], [0.0, 0.05164565826330532]]\n",
            "Finished building the output structure\n",
            "Finished building the training dataset\n",
            "Finished building the validation dataset\n"
          ]
        }
      ]
    },
    {
      "cell_type": "markdown",
      "source": [
        "#<b>Training the Neural Net</b>"
      ],
      "metadata": {
        "id": "oteqJUB2ZR54"
      }
    },
    {
      "cell_type": "code",
      "source": [
        "print(f'About to train! :-)')\n",
        "history = model.fit(trainD, epochs=EPOCHS, batch_size=BATCH, validation_data=valD, verbose=2)\n",
        "print('Finished training! :-)')"
      ],
      "metadata": {
        "id": "LPBNnZ9HRXHB",
        "outputId": "a6241cca-54a0-476e-fc39-9c0ae2dad796",
        "colab": {
          "base_uri": "https://localhost:8080/"
        }
      },
      "execution_count": 54,
      "outputs": [
        {
          "output_type": "stream",
          "name": "stdout",
          "text": [
            "About to train! :-)\n",
            "Epoch 1/50\n",
            "600/600 - 48s - loss: 0.5982 - categorical_accuracy: 0.7233 - val_loss: 0.7818 - val_categorical_accuracy: 0.5527 - 48s/epoch - 79ms/step\n",
            "Epoch 2/50\n",
            "600/600 - 46s - loss: 0.5970 - categorical_accuracy: 0.7250 - val_loss: 0.7425 - val_categorical_accuracy: 0.5527 - 46s/epoch - 77ms/step\n",
            "Epoch 3/50\n",
            "600/600 - 46s - loss: 0.5949 - categorical_accuracy: 0.7250 - val_loss: 0.7883 - val_categorical_accuracy: 0.5527 - 46s/epoch - 77ms/step\n",
            "Epoch 4/50\n",
            "600/600 - 46s - loss: 0.5927 - categorical_accuracy: 0.7250 - val_loss: 0.7281 - val_categorical_accuracy: 0.5527 - 46s/epoch - 77ms/step\n",
            "Epoch 5/50\n",
            "600/600 - 46s - loss: 0.5939 - categorical_accuracy: 0.7250 - val_loss: 0.7313 - val_categorical_accuracy: 0.5527 - 46s/epoch - 77ms/step\n",
            "Epoch 6/50\n",
            "600/600 - 46s - loss: 0.5955 - categorical_accuracy: 0.7250 - val_loss: 0.7270 - val_categorical_accuracy: 0.5527 - 46s/epoch - 77ms/step\n",
            "Epoch 7/50\n",
            "600/600 - 46s - loss: 0.5922 - categorical_accuracy: 0.7250 - val_loss: 0.7320 - val_categorical_accuracy: 0.5527 - 46s/epoch - 77ms/step\n",
            "Epoch 8/50\n",
            "600/600 - 46s - loss: 0.5941 - categorical_accuracy: 0.7250 - val_loss: 0.7933 - val_categorical_accuracy: 0.5527 - 46s/epoch - 77ms/step\n",
            "Epoch 9/50\n",
            "600/600 - 46s - loss: 0.5956 - categorical_accuracy: 0.7250 - val_loss: 0.7233 - val_categorical_accuracy: 0.5527 - 46s/epoch - 77ms/step\n",
            "Epoch 10/50\n",
            "600/600 - 46s - loss: 0.5956 - categorical_accuracy: 0.7250 - val_loss: 0.7852 - val_categorical_accuracy: 0.5527 - 46s/epoch - 77ms/step\n",
            "Epoch 11/50\n",
            "600/600 - 46s - loss: 0.5897 - categorical_accuracy: 0.7250 - val_loss: 0.7378 - val_categorical_accuracy: 0.5527 - 46s/epoch - 77ms/step\n",
            "Epoch 12/50\n",
            "600/600 - 46s - loss: 0.5937 - categorical_accuracy: 0.7250 - val_loss: 0.7707 - val_categorical_accuracy: 0.5527 - 46s/epoch - 77ms/step\n",
            "Epoch 13/50\n",
            "600/600 - 51s - loss: 0.5956 - categorical_accuracy: 0.7250 - val_loss: 0.7838 - val_categorical_accuracy: 0.5527 - 51s/epoch - 84ms/step\n",
            "Epoch 14/50\n",
            "600/600 - 60s - loss: 0.5911 - categorical_accuracy: 0.7250 - val_loss: 0.8163 - val_categorical_accuracy: 0.5527 - 60s/epoch - 99ms/step\n",
            "Epoch 15/50\n",
            "600/600 - 53s - loss: 0.5941 - categorical_accuracy: 0.7250 - val_loss: 0.7870 - val_categorical_accuracy: 0.5527 - 53s/epoch - 89ms/step\n",
            "Epoch 16/50\n",
            "600/600 - 49s - loss: 0.5942 - categorical_accuracy: 0.7250 - val_loss: 0.7455 - val_categorical_accuracy: 0.5527 - 49s/epoch - 82ms/step\n",
            "Epoch 17/50\n",
            "600/600 - 54s - loss: 0.5944 - categorical_accuracy: 0.7250 - val_loss: 0.7364 - val_categorical_accuracy: 0.5527 - 54s/epoch - 90ms/step\n",
            "Epoch 18/50\n",
            "600/600 - 54s - loss: 0.5950 - categorical_accuracy: 0.7250 - val_loss: 0.7918 - val_categorical_accuracy: 0.5527 - 54s/epoch - 90ms/step\n",
            "Epoch 19/50\n",
            "600/600 - 47s - loss: 0.5888 - categorical_accuracy: 0.7250 - val_loss: 0.8296 - val_categorical_accuracy: 0.5527 - 47s/epoch - 78ms/step\n",
            "Epoch 20/50\n",
            "600/600 - 54s - loss: 0.5967 - categorical_accuracy: 0.7250 - val_loss: 0.7362 - val_categorical_accuracy: 0.5527 - 54s/epoch - 90ms/step\n",
            "Epoch 21/50\n",
            "600/600 - 49s - loss: 0.5952 - categorical_accuracy: 0.7250 - val_loss: 0.7537 - val_categorical_accuracy: 0.5527 - 49s/epoch - 82ms/step\n",
            "Epoch 22/50\n",
            "600/600 - 45s - loss: 0.5954 - categorical_accuracy: 0.7250 - val_loss: 0.7404 - val_categorical_accuracy: 0.5527 - 45s/epoch - 76ms/step\n",
            "Epoch 23/50\n",
            "600/600 - 45s - loss: 0.5952 - categorical_accuracy: 0.7250 - val_loss: 0.7554 - val_categorical_accuracy: 0.5527 - 45s/epoch - 74ms/step\n",
            "Epoch 24/50\n",
            "600/600 - 46s - loss: 0.5929 - categorical_accuracy: 0.7250 - val_loss: 0.7936 - val_categorical_accuracy: 0.5527 - 46s/epoch - 77ms/step\n",
            "Epoch 25/50\n",
            "600/600 - 47s - loss: 0.5956 - categorical_accuracy: 0.7250 - val_loss: 0.7767 - val_categorical_accuracy: 0.5527 - 47s/epoch - 78ms/step\n",
            "Epoch 26/50\n",
            "600/600 - 50s - loss: 0.5916 - categorical_accuracy: 0.7250 - val_loss: 0.7277 - val_categorical_accuracy: 0.5527 - 50s/epoch - 83ms/step\n",
            "Epoch 27/50\n",
            "600/600 - 46s - loss: 0.5946 - categorical_accuracy: 0.7250 - val_loss: 0.7641 - val_categorical_accuracy: 0.5527 - 46s/epoch - 77ms/step\n",
            "Epoch 28/50\n",
            "600/600 - 46s - loss: 0.5950 - categorical_accuracy: 0.7250 - val_loss: 0.7599 - val_categorical_accuracy: 0.5527 - 46s/epoch - 77ms/step\n",
            "Epoch 29/50\n",
            "600/600 - 46s - loss: 0.5952 - categorical_accuracy: 0.7250 - val_loss: 0.7976 - val_categorical_accuracy: 0.5527 - 46s/epoch - 77ms/step\n",
            "Epoch 30/50\n",
            "600/600 - 47s - loss: 0.5961 - categorical_accuracy: 0.7250 - val_loss: 0.7937 - val_categorical_accuracy: 0.5527 - 47s/epoch - 79ms/step\n",
            "Epoch 31/50\n",
            "600/600 - 47s - loss: 0.5903 - categorical_accuracy: 0.7250 - val_loss: 0.7218 - val_categorical_accuracy: 0.5527 - 47s/epoch - 78ms/step\n",
            "Epoch 32/50\n",
            "600/600 - 46s - loss: 0.5957 - categorical_accuracy: 0.7250 - val_loss: 0.7168 - val_categorical_accuracy: 0.5527 - 46s/epoch - 77ms/step\n",
            "Epoch 33/50\n",
            "600/600 - 46s - loss: 0.5939 - categorical_accuracy: 0.7250 - val_loss: 0.7607 - val_categorical_accuracy: 0.5527 - 46s/epoch - 77ms/step\n",
            "Epoch 34/50\n",
            "600/600 - 46s - loss: 0.5904 - categorical_accuracy: 0.7250 - val_loss: 0.7615 - val_categorical_accuracy: 0.5527 - 46s/epoch - 77ms/step\n",
            "Epoch 35/50\n",
            "600/600 - 46s - loss: 0.5936 - categorical_accuracy: 0.7250 - val_loss: 0.7481 - val_categorical_accuracy: 0.5527 - 46s/epoch - 77ms/step\n",
            "Epoch 36/50\n",
            "600/600 - 46s - loss: 0.5937 - categorical_accuracy: 0.7250 - val_loss: 0.7184 - val_categorical_accuracy: 0.5527 - 46s/epoch - 77ms/step\n",
            "Epoch 37/50\n",
            "600/600 - 47s - loss: 0.5949 - categorical_accuracy: 0.7250 - val_loss: 0.7426 - val_categorical_accuracy: 0.5527 - 47s/epoch - 78ms/step\n",
            "Epoch 38/50\n",
            "600/600 - 46s - loss: 0.5936 - categorical_accuracy: 0.7250 - val_loss: 0.7557 - val_categorical_accuracy: 0.5527 - 46s/epoch - 77ms/step\n",
            "Epoch 39/50\n",
            "600/600 - 46s - loss: 0.5942 - categorical_accuracy: 0.7250 - val_loss: 0.7827 - val_categorical_accuracy: 0.5527 - 46s/epoch - 77ms/step\n",
            "Epoch 40/50\n",
            "600/600 - 47s - loss: 0.5930 - categorical_accuracy: 0.7250 - val_loss: 0.7291 - val_categorical_accuracy: 0.5527 - 47s/epoch - 78ms/step\n",
            "Epoch 41/50\n",
            "600/600 - 46s - loss: 0.5926 - categorical_accuracy: 0.7250 - val_loss: 0.7321 - val_categorical_accuracy: 0.5527 - 46s/epoch - 77ms/step\n",
            "Epoch 42/50\n",
            "600/600 - 46s - loss: 0.5953 - categorical_accuracy: 0.7250 - val_loss: 0.7453 - val_categorical_accuracy: 0.5527 - 46s/epoch - 76ms/step\n",
            "Epoch 43/50\n",
            "600/600 - 47s - loss: 0.5931 - categorical_accuracy: 0.7250 - val_loss: 0.7425 - val_categorical_accuracy: 0.5527 - 47s/epoch - 78ms/step\n",
            "Epoch 44/50\n",
            "600/600 - 46s - loss: 0.5936 - categorical_accuracy: 0.7250 - val_loss: 0.7120 - val_categorical_accuracy: 0.5527 - 46s/epoch - 77ms/step\n",
            "Epoch 45/50\n",
            "600/600 - 47s - loss: 0.5946 - categorical_accuracy: 0.7250 - val_loss: 0.7441 - val_categorical_accuracy: 0.5527 - 47s/epoch - 78ms/step\n",
            "Epoch 46/50\n",
            "600/600 - 47s - loss: 0.5928 - categorical_accuracy: 0.7250 - val_loss: 0.7246 - val_categorical_accuracy: 0.5527 - 47s/epoch - 78ms/step\n",
            "Epoch 47/50\n",
            "600/600 - 47s - loss: 0.5938 - categorical_accuracy: 0.7250 - val_loss: 0.7912 - val_categorical_accuracy: 0.5527 - 47s/epoch - 79ms/step\n",
            "Epoch 48/50\n",
            "600/600 - 48s - loss: 0.5927 - categorical_accuracy: 0.7250 - val_loss: 0.7040 - val_categorical_accuracy: 0.5527 - 48s/epoch - 79ms/step\n",
            "Epoch 49/50\n",
            "600/600 - 47s - loss: 0.5940 - categorical_accuracy: 0.7250 - val_loss: 0.7104 - val_categorical_accuracy: 0.5527 - 47s/epoch - 78ms/step\n",
            "Epoch 50/50\n",
            "600/600 - 47s - loss: 0.5958 - categorical_accuracy: 0.7250 - val_loss: 0.7251 - val_categorical_accuracy: 0.5527 - 47s/epoch - 79ms/step\n",
            "Finished training! :-)\n"
          ]
        }
      ]
    },
    {
      "cell_type": "markdown",
      "source": [
        "#<b>Plotting the Neural Net results</b>"
      ],
      "metadata": {
        "id": "ildO_9EYZVol"
      }
    },
    {
      "cell_type": "code",
      "source": [
        "# Display results\n",
        "f,ax = plt.subplots(1,2,figsize=(15,10))\n",
        "\n",
        "ax[0].plot(history.history['loss'],label='loss', c='k', lw=2)\n",
        "ax[0].plot(history.history['val_loss'], label='val loss', c='r', lw=2)\n",
        "ax[0].grid()\n",
        "ax[0].set_title('Training and Validation Loss* over the Epochs\\n*TensorFlow categorical crossentropy')\n",
        "ax[0].set_ylim(0,None)\n",
        "ax[0].legend()\n",
        "\n",
        "ax[1].plot(history.history['categorical_accuracy'],label='accuracy', c='k', lw=2)\n",
        "ax[1].plot(history.history['val_categorical_accuracy'], label='val accuracy', c='r', lw=2)\n",
        "ax[1].set_ylim(0,1)\n",
        "ax[1].hlines(0.5, 0, EPOCHS, color='y', ls=':', lw=4, label='Null Hypothesis\\n(perfect 50% tag balance case)')\n",
        "ax[1].grid()\n",
        "ax[1].set_title('Training and Validation Acurracy over the Epochs')\n",
        "ax[1].legend()\t\t\t\t\t\t\t\t\t\t\t\t\t\t\t\t\t\t\t\t\t\t\t\t\t\t\t\t\t\t\t\t\t\t\t\t\t\t\t\t\t\t\t\t\t\t\t\t\t\t\t\t\t\t\t\t\t\t\t\t\t\t\t\t\t\t\t\t\t\t\t\t\t\t\t\t\t\t\t\t\t\t\t\t\t\t\t\t\t\t\t\t\t\t\t\t\t\t\t\t\t\t\t\t\t\t\t\t\t\t\t\t\t\t\t\t\t\t\t\t\t\t\t\t\t\t\t\t\t\t\t\t\t\t\t\t\t\t\t\t\t\t\t\t\t\t\t\t\t\t\t\t\t\t\t\t\t\t\t\t\t\t\t\t\n",
        "\n",
        "plt.show()"
      ],
      "metadata": {
        "id": "rktl-jpbmLRR",
        "outputId": "9c87a04c-4918-40a9-a63b-f78253c0e6fc",
        "colab": {
          "base_uri": "https://localhost:8080/",
          "height": 623
        }
      },
      "execution_count": 61,
      "outputs": [
        {
          "output_type": "display_data",
          "data": {
            "image/png": "[encoded data removed]",
            "text/plain": [
              "<Figure size 1080x720 with 2 Axes>"
            ]
          },
          "metadata": {
            "needs_background": "light"
          }
        }
      ]
    },
    {
      "cell_type": "code",
      "source": [
        "# Print the raw values of the metrics, just in case we want to use them without re-running the notebook :O\n",
        "print(history.history['loss'])\n",
        "print(history.history['val_loss'])\n",
        "print(history.history['categorical_accuracy'])\n",
        "print(history.history['val_categorical_accuracy'])"
      ],
      "metadata": {
        "id": "j0VBVFx0nMh2",
        "outputId": "35a7e35f-2af8-47b1-d6ee-748413f8cb50",
        "colab": {
          "base_uri": "https://localhost:8080/"
        }
      },
      "execution_count": 57,
      "outputs": [
        {
          "output_type": "stream",
          "name": "stdout",
          "text": [
            "[0.5982447266578674, 0.5969698429107666, 0.594936192035675, 0.5927329063415527, 0.5939357280731201, 0.5954844355583191, 0.5921755433082581, 0.594054639339447, 0.5956071019172668, 0.5956102609634399, 0.5896567702293396, 0.593674898147583, 0.5955753922462463, 0.5910670757293701, 0.5940710306167603, 0.594192624092102, 0.5943629741668701, 0.5949951410293579, 0.5888196229934692, 0.5967196822166443, 0.5952320098876953, 0.595394492149353, 0.5952397584915161, 0.5928781032562256, 0.5956092476844788, 0.5916368365287781, 0.5945946574211121, 0.5949538350105286, 0.5952386856079102, 0.5961313843727112, 0.590283215045929, 0.5956944227218628, 0.5939354300498962, 0.590394139289856, 0.5936046242713928, 0.5937320590019226, 0.5948633551597595, 0.5936342477798462, 0.5942476391792297, 0.5929570198059082, 0.592609167098999, 0.5952854156494141, 0.593050479888916, 0.5936325788497925, 0.5945742130279541, 0.5928395390510559, 0.5938271284103394, 0.5926558971405029, 0.5940397381782532, 0.5957786440849304]\n",
            "[0.781809389591217, 0.7424848675727844, 0.7883101105690002, 0.7281215190887451, 0.7312964797019958, 0.7269928455352783, 0.7320035099983215, 0.7933369278907776, 0.7233196496963501, 0.7851979732513428, 0.7377789616584778, 0.7706681489944458, 0.7838252186775208, 0.8162603974342346, 0.7869988679885864, 0.7455117702484131, 0.7364078164100647, 0.7918136119842529, 0.829637348651886, 0.7361726760864258, 0.7536894679069519, 0.7403931021690369, 0.7554392218589783, 0.793610155582428, 0.7767107486724854, 0.7276561260223389, 0.7640538811683655, 0.759924054145813, 0.7976217269897461, 0.793729305267334, 0.7218303084373474, 0.71683669090271, 0.7606593370437622, 0.7615388631820679, 0.7481349110603333, 0.7183778285980225, 0.7426438331604004, 0.7557108998298645, 0.7826904654502869, 0.7291487455368042, 0.7321388721466064, 0.7453069686889648, 0.7424800992012024, 0.7119511961936951, 0.7441347241401672, 0.7246379852294922, 0.7912101745605469, 0.7039828300476074, 0.710413932800293, 0.7250622510910034]\n",
            "[0.7233333587646484, 0.7250000238418579, 0.7250000238418579, 0.7250000238418579, 0.7250000238418579, 0.7250000238418579, 0.7250000238418579, 0.7250000238418579, 0.7250000238418579, 0.7250000238418579, 0.7250000238418579, 0.7250000238418579, 0.7250000238418579, 0.7250000238418579, 0.7250000238418579, 0.7250000238418579, 0.7250000238418579, 0.7250000238418579, 0.7250000238418579, 0.7250000238418579, 0.7250000238418579, 0.7250000238418579, 0.7250000238418579, 0.7250000238418579, 0.7250000238418579, 0.7250000238418579, 0.7250000238418579, 0.7250000238418579, 0.7250000238418579, 0.7250000238418579, 0.7250000238418579, 0.7250000238418579, 0.7250000238418579, 0.7250000238418579, 0.7250000238418579, 0.7250000238418579, 0.7250000238418579, 0.7250000238418579, 0.7250000238418579, 0.7250000238418579, 0.7250000238418579, 0.7250000238418579, 0.7250000238418579, 0.7250000238418579, 0.7250000238418579, 0.7250000238418579, 0.7250000238418579, 0.7250000238418579, 0.7250000238418579, 0.7250000238418579]\n",
            "[0.552742600440979, 0.552742600440979, 0.552742600440979, 0.552742600440979, 0.552742600440979, 0.552742600440979, 0.552742600440979, 0.552742600440979, 0.552742600440979, 0.552742600440979, 0.552742600440979, 0.552742600440979, 0.552742600440979, 0.552742600440979, 0.552742600440979, 0.552742600440979, 0.552742600440979, 0.552742600440979, 0.552742600440979, 0.552742600440979, 0.552742600440979, 0.552742600440979, 0.552742600440979, 0.552742600440979, 0.552742600440979, 0.552742600440979, 0.552742600440979, 0.552742600440979, 0.552742600440979, 0.552742600440979, 0.552742600440979, 0.552742600440979, 0.552742600440979, 0.552742600440979, 0.552742600440979, 0.552742600440979, 0.552742600440979, 0.552742600440979, 0.552742600440979, 0.552742600440979, 0.552742600440979, 0.552742600440979, 0.552742600440979, 0.552742600440979, 0.552742600440979, 0.552742600440979, 0.552742600440979, 0.552742600440979, 0.552742600440979, 0.552742600440979]\n"
          ]
        }
      ]
    },
    {
      "cell_type": "code",
      "source": [
        ""
      ],
      "metadata": {
        "id": "Dy95bCPsYGrT"
      },
      "execution_count": null,
      "outputs": []
    }
  ]
}